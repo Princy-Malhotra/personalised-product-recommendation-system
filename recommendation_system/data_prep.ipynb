{
 "cells": [
  {
   "cell_type": "code",
   "execution_count": 2,
   "metadata": {},
   "outputs": [],
   "source": [
    "import pandas as pd\n",
    "import matplotlib.pyplot as plt\n",
    "import numpy as np"
   ]
  },
  {
   "cell_type": "code",
   "execution_count": 3,
   "metadata": {},
   "outputs": [
    {
     "data": {
      "text/plain": [
       "product_id                                                    B07PR1CL3S\n",
       "product_name           boAt Rockerz 450 Bluetooth On Ear Headphones w...\n",
       "category               Electronics|Headphones,Earbuds&Accessories|Hea...\n",
       "discounted_price                                                  ₹1,220\n",
       "actual_price                                                      ₹3,990\n",
       "discount_percentage                                                  69%\n",
       "rating                                                               4.1\n",
       "rating_count                                                    1,07,151\n",
       "about_product          Playback- It provides a massive battery backup...\n",
       "user_id                AFU4JDUZDD6N5MUGLULCRLUQLHDQ,AGI4QJTBBCTTOJUOU...\n",
       "user_name              Deepanshu saini,Sunil S.,Aman,Aakash,Sushil Ku...\n",
       "review_id              RIRMEEQUWCCJK,R1E187080D8HAU,R1RPZJJNQM76M1,R1...\n",
       "review_title           Authentic review,Overall it's a good headset.,...\n",
       "review_content         Best budget headphones. I'm procured this head...\n",
       "img_link               https://m.media-amazon.com/images/W/WEBP_40237...\n",
       "product_link           https://www.amazon.in/Rockerz-450-Wireless-Blu...\n",
       "Name: 599, dtype: object"
      ]
     },
     "execution_count": 3,
     "metadata": {},
     "output_type": "execute_result"
    }
   ],
   "source": [
    "data = pd.read_csv('amazon.csv')\n",
    "data.loc[599]"
   ]
  },
  {
   "cell_type": "code",
   "execution_count": 22,
   "metadata": {},
   "outputs": [
    {
     "name": "stdout",
     "output_type": "stream",
     "text": [
      "11503\n"
     ]
    }
   ],
   "source": [
    "reviews=[]\n",
    "for ind in data.index:\n",
    "    reviews=np.concatenate((reviews, data['review_id'][ind].split(',')))\n",
    "print(len(reviews))"
   ]
  },
  {
   "cell_type": "code",
   "execution_count": 24,
   "metadata": {},
   "outputs": [
    {
     "name": "stdout",
     "output_type": "stream",
     "text": [
      "9269\n"
     ]
    }
   ],
   "source": [
    "print(len(set(reviews)))\n",
    "reviews=set(reviews)"
   ]
  },
  {
   "cell_type": "code",
   "execution_count": null,
   "metadata": {},
   "outputs": [],
   "source": []
  }
 ],
 "metadata": {
  "kernelspec": {
   "display_name": "sudoku",
   "language": "python",
   "name": "python3"
  },
  "language_info": {
   "codemirror_mode": {
    "name": "ipython",
    "version": 3
   },
   "file_extension": ".py",
   "mimetype": "text/x-python",
   "name": "python",
   "nbconvert_exporter": "python",
   "pygments_lexer": "ipython3",
   "version": "3.8.5"
  },
  "orig_nbformat": 4
 },
 "nbformat": 4,
 "nbformat_minor": 2
}
